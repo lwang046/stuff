{
 "cells": [
  {
   "cell_type": "markdown",
   "id": "ca2b8abe-9bd0-42d4-bf38-97154f475480",
   "metadata": {},
   "source": [
    "**Import libs**"
   ]
  },
  {
   "cell_type": "code",
   "execution_count": 1,
   "id": "0cfc55fa-63e2-42f6-9816-f1d83955d4a8",
   "metadata": {},
   "outputs": [
    {
     "name": "stdout",
     "output_type": "stream",
     "text": [
      "Welcome to JupyROOT 6.24/02\n"
     ]
    }
   ],
   "source": [
    "%matplotlib inline\n",
    "\n",
    "import random\n",
    "\n",
    "import pandas as pd\n",
    "import numpy as np\n",
    "import matplotlib as mpl\n",
    "import matplotlib.pyplot as plt\n",
    "import pickle as pl\n",
    "\n",
    "from sklearn import datasets\n",
    "from sklearn.tree import DecisionTreeClassifier\n",
    "from sklearn.ensemble import AdaBoostClassifier\n",
    "from sklearn.metrics import classification_report, roc_auc_score, accuracy_score\n",
    "from sklearn.model_selection import train_test_split\n",
    "\n",
    "from root_numpy import root2array, rec2array, array2root"
   ]
  },
  {
   "cell_type": "markdown",
   "id": "2f891f1b-21c0-4f36-99de-b2963b905dc9",
   "metadata": {},
   "source": [
    "**Prepare dataset**"
   ]
  },
  {
   "cell_type": "code",
   "execution_count": 3,
   "id": "8d5b8e28-32ff-4c8a-8571-d299726519f9",
   "metadata": {},
   "outputs": [],
   "source": [
    "branch_names = \"\"\"lepton pT, jet 1 b-tag, jet 2 b-tag, jet 3 b-tag, jet 4 b-tag\"\"\".split(\",\")\n",
    "branch_names = [c.strip() for c in branch_names]\n",
    "branch_names = (b.replace(\" \", \"_\") for b in branch_names)\n",
    "branch_names = list(b.replace(\"-\", \"_\") for b in branch_names)\n",
    "\n",
    "signal = root2array(\"./HIGGSsignal.root\",\n",
    "                    \"tree\",\n",
    "                    branch_names)\n",
    "signal = rec2array(signal)\n",
    "\n",
    "backgr = root2array(\"./HIGGSbackground.root\",\n",
    "                    \"tree\",\n",
    "                    branch_names)\n",
    "backgr = rec2array(backgr)\n",
    "\n",
    "X = np.concatenate((signal, backgr))\n",
    "y = np.concatenate((np.ones(signal.shape[0]), np.zeros(backgr.shape[0])))"
   ]
  },
  {
   "cell_type": "markdown",
   "id": "1ac7543f-d698-47bf-a3d5-47a29172213d",
   "metadata": {},
   "source": [
    "**Train BDT**"
   ]
  },
  {
   "cell_type": "code",
   "execution_count": 4,
   "id": "c6d13ecb-ef63-49e1-85aa-6a3ae76e6263",
   "metadata": {},
   "outputs": [
    {
     "data": {
      "text/plain": [
       "AdaBoostClassifier(algorithm='SAMME',\n",
       "                   base_estimator=DecisionTreeClassifier(max_depth=3,\n",
       "                                                         min_samples_leaf=0.05,\n",
       "                                                         random_state=True),\n",
       "                   learning_rate=0.5, n_estimators=800)"
      ]
     },
     "execution_count": 4,
     "metadata": {},
     "output_type": "execute_result"
    }
   ],
   "source": [
    "X_dev,X_eval, y_dev,y_eval = train_test_split(X, y, test_size=0.2, random_state=42)\n",
    "X_train,X_test, y_train,y_test = train_test_split(X_dev, y_dev, test_size=0.2, random_state=492)\n",
    "\n",
    "dt = DecisionTreeClassifier(max_depth=3, min_samples_leaf=0.05, random_state=True)\n",
    "bdt = AdaBoostClassifier(dt,\n",
    "                         algorithm='SAMME',\n",
    "                         n_estimators=800,\n",
    "                         learning_rate=0.5)\n",
    "\n",
    "bdt.fit(X_train, y_train)"
   ]
  },
  {
   "cell_type": "markdown",
   "id": "c79fe50e-ac54-41ff-835e-d00e3ef00e19",
   "metadata": {},
   "source": [
    "BDT info"
   ]
  },
  {
   "cell_type": "code",
   "execution_count": 17,
   "id": "8ea6a722-b3b6-4d7c-b749-deec6b74ab1a",
   "metadata": {},
   "outputs": [
    {
     "data": {
      "text/plain": [
       "array([0.58321923, 0.12532797, 0.10575265, 0.10367268, 0.08202748])"
      ]
     },
     "execution_count": 18,
     "metadata": {},
     "output_type": "execute_result"
    }
   ],
   "source": [
    "bdt.feature_importances_"
   ]
  },
  {
   "cell_type": "markdown",
   "id": "5c1f053b-d9e8-475c-82b5-d7dedafdf510",
   "metadata": {},
   "source": [
    "**Performance checks**"
   ]
  },
  {
   "cell_type": "code",
   "execution_count": 6,
   "id": "8fc0a7cb-de83-452f-a55b-8e88b77682d3",
   "metadata": {},
   "outputs": [
    {
     "name": "stdout",
     "output_type": "stream",
     "text": [
      "On testing sample:\n",
      "              precision    recall  f1-score   support\n",
      "\n",
      "  background       0.55      0.40      0.46    104033\n",
      "      signal       0.57      0.71      0.63    117067\n",
      "\n",
      "    accuracy                           0.56    221100\n",
      "   macro avg       0.56      0.56      0.55    221100\n",
      "weighted avg       0.56      0.56      0.55    221100\n",
      "\n",
      "Area under ROC curve: 0.5834\n",
      "On training sample:\n",
      "              precision    recall  f1-score   support\n",
      "\n",
      "  background       0.56      0.40      0.47    210925\n",
      "      signal       0.57      0.72      0.64    237975\n",
      "\n",
      "    accuracy                           0.57    448900\n",
      "   macro avg       0.57      0.56      0.55    448900\n",
      "weighted avg       0.57      0.57      0.56    448900\n",
      "\n",
      "Area under ROC curve: 0.5881\n"
     ]
    }
   ],
   "source": [
    "print(\"On testing sample:\")\n",
    "y_predicted = bdt.predict(X_test)\n",
    "print(classification_report(y_test, y_predicted, target_names=[\"background\", \"signal\"]))\n",
    "print(\"Area under ROC curve: %.4f\"%(roc_auc_score(y_test, bdt.decision_function(X_test))))\n",
    "\n",
    "\n",
    "print(\"On training sample:\")\n",
    "y_predicted = bdt.predict(X_train)\n",
    "print(classification_report(y_train, y_predicted, target_names=[\"background\", \"signal\"]))\n",
    "print(\"Area under ROC curve: %.4f\"%(roc_auc_score(y_train, bdt.decision_function(X_train))))\n"
   ]
  },
  {
   "cell_type": "markdown",
   "id": "fea5aa00-aeb6-49db-9706-237d2c11d30c",
   "metadata": {},
   "source": [
    "**ROC curve**"
   ]
  },
  {
   "cell_type": "code",
   "execution_count": 7,
   "id": "646062df-82d1-460e-891d-423e0d95c520",
   "metadata": {},
   "outputs": [
    {
     "name": "stdout",
     "output_type": "stream",
     "text": [
      "ROC curve on testing sample:\n"
     ]
    },
    {
     "data": {
      "image/png": "[encoded data removed]",
      "text/plain": [
       "<Figure size 432x288 with 1 Axes>"
      ]
     },
     "metadata": {
      "needs_background": "light"
     },
     "output_type": "display_data"
    }
   ],
   "source": [
    "print(\"ROC curve on testing sample:\")\n",
    "from sklearn.metrics import roc_curve, auc\n",
    "\n",
    "decisions = bdt.decision_function(X_test)\n",
    "# Compute ROC curve and area under the curve\n",
    "fpr, tpr, thresholds = roc_curve(y_test, decisions)\n",
    "roc_auc = auc(fpr, tpr)\n",
    "\n",
    "plt.plot(fpr, tpr, lw=1, label='ROC (area = %0.2f)'%(roc_auc))\n",
    "\n",
    "plt.plot([0, 1], [0, 1], '--', color=(0.6, 0.6, 0.6), label='Diag')\n",
    "plt.xlim([-0.05, 1.05])\n",
    "plt.ylim([-0.05, 1.05])\n",
    "plt.xlabel('False Positive Rate')\n",
    "plt.ylabel('True Positive Rate')\n",
    "plt.title('Receiver operating characteristic')\n",
    "plt.legend(loc=\"lower right\")\n",
    "plt.grid()\n",
    "plt.show()\n",
    "plot.savefig('roc.png')"
   ]
  },
  {
   "cell_type": "markdown",
   "id": "2eab8ffc-727e-4be1-901f-602dd73eec60",
   "metadata": {},
   "source": [
    "**BDT learning curve**"
   ]
  },
  {
   "cell_type": "code",
   "execution_count": 10,
   "id": "48d67abb-5dae-4c7c-a2ec-46a2064b609a",
   "metadata": {},
   "outputs": [
    {
     "name": "stdout",
     "output_type": "stream",
     "text": [
      "{'algorithm': 'SAMME', 'base_estimator__ccp_alpha': 0.0, 'base_estimator__class_weight': None, 'base_estimator__criterion': 'gini', 'base_estimator__max_depth': 3, 'base_estimator__max_features': None, 'base_estimator__max_leaf_nodes': None, 'base_estimator__min_impurity_decrease': 0.0, 'base_estimator__min_impurity_split': None, 'base_estimator__min_samples_leaf': 0.05, 'base_estimator__min_samples_split': 2, 'base_estimator__min_weight_fraction_leaf': 0.0, 'base_estimator__random_state': True, 'base_estimator__splitter': 'best', 'base_estimator': DecisionTreeClassifier(max_depth=3, min_samples_leaf=0.05, random_state=True), 'learning_rate': 0.5, 'n_estimators': 800, 'random_state': None}\n"
     ]
    },
    {
     "data": {
      "image/png": "[encoded data removed]",
      "text/plain": [
       "<Figure size 432x288 with 1 Axes>"
      ]
     },
     "metadata": {
      "needs_background": "light"
     },
     "output_type": "display_data"
    },
    {
     "data": {
      "text/plain": [
       "<Figure size 432x288 with 0 Axes>"
      ]
     },
     "metadata": {},
     "output_type": "display_data"
    }
   ],
   "source": [
    "print(bdt.get_params())\n",
    "\n",
    "train_predictions = bdt.staged_predict(X_train)\n",
    "test_predictions = bdt.staged_predict(X_test)\n",
    "\n",
    "scores_test = []\n",
    "scores_train = []\n",
    "for i in test_predictions:\n",
    "    scores_test.append(accuracy_score(i,y_test))\n",
    "for i in train_predictions:\n",
    "    scores_train.append(accuracy_score(i,y_train))\n",
    "\n",
    "plt.figure()\n",
    "plt.title(\"learning curves\")\n",
    "plt.xlabel(\"Training iterations\")\n",
    "plt.ylabel(\"accuracy\")\n",
    "plt.grid()\n",
    "plt.plot(range(0,800,1), scores_train, 'o-', color=\"r\",label=\"Training accuracy\")\n",
    "plt.plot(range(0,800,1), scores_test, 'o-', color=\"g\",label=\"Testing accuracy\")\n",
    "plt.legend(loc=\"best\")\n",
    "plt.show()\n",
    "plt.savefig('learning_curve.png')"
   ]
  },
  {
   "cell_type": "markdown",
   "id": "15f13e25-5d95-48aa-a97c-2429538e95c7",
   "metadata": {},
   "source": [
    "**Overtraining Check**"
   ]
  },
  {
   "cell_type": "code",
   "execution_count": 25,
   "id": "684227d9-5328-4eec-82ad-35e3e1a5f80a",
   "metadata": {},
   "outputs": [
    {
     "data": {
      "image/png": "[encoded data removed]",
      "text/plain": [
       "<Figure size 432x288 with 1 Axes>"
      ]
     },
     "metadata": {
      "needs_background": "light"
     },
     "output_type": "display_data"
    }
   ],
   "source": [
    "def compare_train_test(clf, X_train, y_train, X_test, y_test, bins=30):\n",
    "    decisions = []\n",
    "    for X,y in ((X_train, y_train), (X_test, y_test)):\n",
    "        d1 = clf.decision_function(X[y>0.5]).ravel()\n",
    "        d2 = clf.decision_function(X[y<0.5]).ravel()\n",
    "        decisions += [d1, d2]\n",
    "\n",
    "    low = min(np.min(d) for d in decisions)\n",
    "    high = max(np.max(d) for d in decisions)\n",
    "    low_high = (low,high)\n",
    "\n",
    "    plt.hist(decisions[0],\n",
    "             color='r', alpha=0.5, range=low_high, bins=bins,\n",
    "             histtype='stepfilled', density=True,\n",
    "             label='S (train)')\n",
    "    plt.hist(decisions[1],\n",
    "             color='b', alpha=0.5, range=low_high, bins=bins,\n",
    "             histtype='stepfilled', density=True,\n",
    "             label='B (train)')\n",
    "\n",
    "    hist, bins = np.histogram(decisions[2],\n",
    "                              bins=bins, range=low_high, density=True)\n",
    "    scale = len(decisions[2]) / sum(hist)\n",
    "    err = np.sqrt(hist * scale) / scale\n",
    "\n",
    "    width = (bins[1] - bins[0])\n",
    "    center = (bins[:-1] + bins[1:]) / 2\n",
    "    plt.errorbar(center, hist, yerr=err, fmt='o', c='r', label='S (test)')\n",
    "\n",
    "    hist, bins = np.histogram(decisions[3],\n",
    "                              bins=bins, range=low_high, density=True)\n",
    "    scale = len(decisions[2]) / sum(hist)\n",
    "    err = np.sqrt(hist * scale) / scale\n",
    "\n",
    "    plt.errorbar(center, hist, yerr=err, fmt='o', c='b', label='B (test)')\n",
    "\n",
    "    plt.xlabel(\"BDT output\")\n",
    "    plt.ylabel(\"Arbitrary units\")\n",
    "    plt.legend(loc='best')\n",
    "    plt.show()\n",
    "    plt.savefig('bdt_dist.png')\n",
    "\n",
    "compare_train_test(bdt, X_train, y_train, X_test, y_test)"
   ]
  },
  {
   "cell_type": "markdown",
   "id": "8b24e0dd-74d4-4cb1-a83a-48cdb9b7efe7",
   "metadata": {},
   "source": [
    "**Correlation Plots**"
   ]
  },
  {
   "cell_type": "code",
   "execution_count": 37,
   "id": "ef8959f8-557a-4d6e-b6c2-bce9a04988db",
   "metadata": {},
   "outputs": [
    {
     "name": "stderr",
     "output_type": "stream",
     "text": [
      "/var/folders/2j/rz3m9cgd6n3_26t7bsh_2h_c0000gn/T/ipykernel_3370/4023543111.py:49: FutureWarning: In a future version of pandas all arguments of DataFrame.drop except for the argument 'labels' will be keyword-only\n",
      "  correlations(df[bg].drop('y', 1), 'bkg')\n",
      "/var/folders/2j/rz3m9cgd6n3_26t7bsh_2h_c0000gn/T/ipykernel_3370/4023543111.py:50: FutureWarning: In a future version of pandas all arguments of DataFrame.drop except for the argument 'labels' will be keyword-only\n",
      "  correlations(df[sig].drop('y', 1), 'sig')\n"
     ]
    },
    {
     "data": {
      "image/png": "[encoded data removed]",
      "text/plain": [
       "<Figure size 432x360 with 2 Axes>"
      ]
     },
     "metadata": {
      "needs_background": "light"
     },
     "output_type": "display_data"
    },
    {
     "data": {
      "image/png": "[encoded data removed]",
      "text/plain": [
       "<Figure size 432x360 with 2 Axes>"
      ]
     },
     "metadata": {
      "needs_background": "light"
     },
     "output_type": "display_data"
    }
   ],
   "source": [
    "import pandas.core.common as com\n",
    "from pandas.core.index import Index\n",
    "\n",
    "from pandas.plotting import scatter_matrix\n",
    "\n",
    "\n",
    "# Create a pandas DataFrame for our data\n",
    "# this provides many convenience functions\n",
    "# for exploring your dataset\n",
    "# need to reshape y so it is a 2D array with one column\n",
    "df = pd.DataFrame(np.hstack((X, y.reshape(y.shape[0], -1))),\n",
    "                  columns=branch_names+['y'])\n",
    "\n",
    "\n",
    "bg = df.y < 0.5\n",
    "sig = df.y > 0.5\n",
    "\n",
    "def correlations(data, extra_str, **kwds):\n",
    "    \"\"\"Calculate pairwise correlation between features.\n",
    "    \n",
    "    Extra arguments are passed on to DataFrame.corr()\n",
    "    \"\"\"\n",
    "    # simply call df.corr() to get a table of\n",
    "    # correlation values if you do not need\n",
    "    # the fancy plotting\n",
    "    corrmat = data.corr(**kwds)\n",
    "\n",
    "    fig, ax1 = plt.subplots(ncols=1, figsize=(6,5))\n",
    "    \n",
    "    opts = {'cmap': plt.get_cmap(\"RdBu\"),\n",
    "            'vmin': -1, 'vmax': +1}\n",
    "    heatmap1 = ax1.pcolor(corrmat, **opts)\n",
    "    plt.colorbar(heatmap1, ax=ax1)\n",
    "\n",
    "    ax1.set_title(\"Correlations_\"+extra_str)\n",
    "\n",
    "    labels = corrmat.columns.values\n",
    "    for ax in (ax1,):\n",
    "        # shift location of ticks to center of the bins\n",
    "        ax.set_xticks(np.arange(len(labels))+0.5, minor=False)\n",
    "        ax.set_yticks(np.arange(len(labels))+0.5, minor=False)\n",
    "        ax.set_xticklabels(labels, minor=False, ha='right', rotation=70)\n",
    "        ax.set_yticklabels(labels, minor=False)\n",
    "        \n",
    "    plt.tight_layout()\n",
    "    \n",
    "# remove the y column from the correlation matrix\n",
    "# after using it to select background and signal\n",
    "correlations(df[bg].drop('y', 1), 'bkg')\n",
    "correlations(df[sig].drop('y', 1), 'sig')"
   ]
  },
  {
   "cell_type": "markdown",
   "id": "b0ea74d4-54b3-4bba-97c8-797d0b443245",
   "metadata": {},
   "source": [
    "**Pickle the output training data**"
   ]
  },
  {
   "cell_type": "code",
   "execution_count": 29,
   "id": "16780a6c-f21d-4f29-aa68-1b04a563f214",
   "metadata": {},
   "outputs": [],
   "source": [
    "pl.dump(bdt, open(\"BDTAdaBoost.pk\",\"wb\"))"
   ]
  },
  {
   "cell_type": "markdown",
   "id": "33142f77-bd67-43ac-befc-dbfdd83f0c3b",
   "metadata": {},
   "source": [
    "**Saving Classifier to Root Tree**"
   ]
  },
  {
   "cell_type": "code",
   "execution_count": 30,
   "id": "794c9195-dd91-4e63-bfcd-b851d83ce63a",
   "metadata": {},
   "outputs": [],
   "source": [
    "y_predicted = bdt.decision_function(X)\n",
    "y_predicted.dtype = [('y', np.float64)]\n",
    "\n",
    "array2root(y_predicted, \"test-prediction.root\", \"BDToutput\")"
   ]
  },
  {
   "cell_type": "markdown",
   "id": "1e902ca7-3b37-450f-858f-094d83ef4e82",
   "metadata": {},
   "source": [
    "**Extra: load trained BDT and apply to input root data**"
   ]
  },
  {
   "cell_type": "code",
   "execution_count": null,
   "id": "0e924dde-7371-42b6-b7a1-8db84281336a",
   "metadata": {},
   "outputs": [],
   "source": [
    "branchlist=branch_names\n",
    "treename=\"tree\"\n",
    "infilename='./datahist.root'\n",
    "outfilename='./datahist_newMVA.root'\n",
    "cutselection=''\n",
    "\n",
    "inputpicklefile=\"BDTAdaBoost.pk\"\n",
    "\n",
    "X_in = root2array(infilename, treename, branches=branchlist, selection=cutselection)\n",
    "bdt = pl.load(open(inputpicklefile,\"rb\"))\n",
    "BDT_out = bdt.decision_function(pd.DataFrame(X_in))\n",
    "BDT_out.dtype = [('BDToutput', np.float64)]\n",
    "array2root(MVA_out, outfilename, \"BDToutput\")"
   ]
  },
  {
   "cell_type": "code",
   "execution_count": null,
   "id": "1fb377a5-a547-47c6-bd9f-385abec67576",
   "metadata": {},
   "outputs": [],
   "source": []
  },
  {
   "cell_type": "code",
   "execution_count": 19,
   "id": "9151f474-28c6-448c-87e9-7ff86f9ae94b",
   "metadata": {},
   "outputs": [],
   "source": [
    "a1d=np.array([5.22174e-12, 7.04852e-10, 3.49584e-08, 7.78029e-07, 9.11847e-06, 6.39666e-05, 0.000297587, 0.000996661,\n",
    "       0.00256618,  0.00535396,  0.00944073,  0.0145521,   0.020145,    0.0255936,   0.0303632,   0.0341078,\n",
    "       0.0366849,   0.0381183,   0.0385392,   0.0381327,   0.0370956,   0.0356113,   0.0338366,   0.0318978,\n",
    "       0.029891,    0.0278866,   0.0259336,   0.0240643,   0.0222981,   0.0206453,   0.0191097,   0.0176902,\n",
    "       0.0163832,   0.0151829,   0.0140826,   0.0130752,   0.0121533,   0.01131,     0.0105382,   0.00983178,\n",
    "       0.00918467,  0.00859143,  0.00804709,  0.0075471,   0.00708733,  0.00666406,  0.00627393,  0.00591389,\n",
    "       0.00558122,  0.00527344,  0.00498834,  0.00472392,  0.00447837,  0.00425007,  0.00403754,  0.00383947,\n",
    "       0.00365465,  0.00348199,  0.00332052,  0.00316934,  0.00302764,  0.0028947,   0.00276983,  0.00265242,\n",
    "       0.00254193,  0.00243785,  0.00233971,  0.00224709,  0.0021596,   0.00207687,  0.0019986,   0.00192447,\n",
    "       0.00185421,  0.00178756,  0.0017243,   0.00166419,  0.00160705,  0.00155268,  0.00150093,  0.00145162,\n",
    "       0.00140461,  0.00135976,  0.00131696,  0.00127607,  0.00123699,  0.00119962,  0.00116386,  0.00112963,\n",
    "       0.00109683,  0.0010654,   0.00103526,  0.00100634,  0.000978578, 0.000951917, 0.000926299, 0.000901672,\n",
    "       0.000877987, 0.000855198, 0.00083326,  0.000812133, 0.000791778, 0.000772159, 0.000753242, 0.000734994,\n",
    "       0.000717384, 0.000700385, 0.000683967, 0.000668107, 0.000652779, 0.00063796,  0.000623629, 0.000609764,\n",
    "       0.000596346, 0.000583356, 0.000570777, 0.000558592, 0.000546785, 0.00053534,  0.000524243, 0.000513481,\n",
    "       0.00050304,  0.000492907, 0.000483072, 0.000473523, 0.000464248, 0.000455238, 0.000446483, 0.000437974,\n",
    "       0.0004297,   0.000421655, 0.00041383,  0.000406216, 0.000398807, 0.000391595, 0.000384574, 0.000377736,\n",
    "       0.000371076, 0.000364588, 0.000358266, 0.000352104, 0.000346097, 0.00034024,  0.000334528, 0.000328956,\n",
    "       0.00032352,  0.000318216, 0.000313039, 0.000307986, 0.000303052, 0.000298234, 0.000293528, 0.000288931,\n",
    "       0.000284439, 0.00028005,  0.000275761, 0.000271567, 0.000267468, 0.000263459, 0.000259538, 0.000255703,\n",
    "       0.000251951, 0.00024828,  0.000244688, 0.000241172, 0.00023773,  0.000234361, 0.000231061, 0.00022783,\n",
    "       0.000224666, 0.000221566, 0.000218528, 0.000215553, 0.000212636, 0.000209778, 0.000206977, 0.00020423,\n",
    "       0.000201537, 0.000198896, 0.000196307, 0.000193767, 0.000191275, 0.000188831, 0.000186432, 0.000184079,\n",
    "       0.000181769, 0.000179502, 0.000177277, 0.000175092, 0.000172947, 0.000170841, 0.000168772, 0.000166741,\n",
    "       0.000164745, 0.000162785, 0.000160859, 0.000158967, 0.000157108, 0.00015528,  0.000153484, 0.000151719,\n",
    "       0.000149984, 0.000148278, 0.000146601, 0.000144951, 0.000143329, 0.000141734, 0.000140165, 0.000138622,\n",
    "       0.000137104, 0.00013561,  0.000134141, 0.000132695, 0.000131272, 0.000129871, 0.000128493, 0.000127136,\n",
    "       0.000125801, 0.000124486, 0.000123191, 0.000121917, 0.000120662, 0.000119426, 0.000118209, 0.00011701,\n",
    "       0.000115829, 0.000114665, 0.000113519, 0.00011239,  0.000111278, 0.000110182, 0.000109102, 0.000108037,\n",
    "       0.000106988, 0.000105954, 0.000104935, 0.00010393,  0.000102939, 0.000101963, 0.000101,    0.000100051,\n",
    "       9.91146e-05, 9.81915e-05, 9.7281e-05,  9.63831e-05, 9.54975e-05, 9.46239e-05, 9.37621e-05, 9.2912e-05,\n",
    "       9.20733e-05, 9.12458e-05])"
   ]
  },
  {
   "cell_type": "code",
   "execution_count": 33,
   "id": "997036f2-2696-46bd-9999-380a718e427f",
   "metadata": {},
   "outputs": [
    {
     "data": {
      "text/plain": [
       "0.49388245104626244"
      ]
     },
     "execution_count": 33,
     "metadata": {},
     "output_type": "execute_result"
    }
   ],
   "source": [
    "a=np.sum(a1d[0:25])/np.sum(a1d[0:250])\n",
    "a"
   ]
  },
  {
   "cell_type": "code",
   "execution_count": 29,
   "id": "6626113d-cc9c-4f46-be73-2833e6f76fd9",
   "metadata": {},
   "outputs": [
    {
     "data": {
      "image/png": "[encoded data removed]",
      "text/plain": [
       "<Figure size 432x288 with 1 Axes>"
      ]
     },
     "metadata": {
      "needs_background": "light"
     },
     "output_type": "display_data"
    }
   ],
   "source": [
    "plt.plot(a1d)\n",
    "plt.show()"
   ]
  },
  {
   "cell_type": "code",
   "execution_count": null,
   "id": "15c24e0f-b668-4c7e-afec-17daa3a19803",
   "metadata": {},
   "outputs": [],
   "source": []
  }
 ],
 "metadata": {
  "kernelspec": {
   "display_name": "Python 3 (ipykernel)",
   "language": "python",
   "name": "python3"
  },
  "language_info": {
   "codemirror_mode": {
    "name": "ipython",
    "version": 3
   },
   "file_extension": ".py",
   "mimetype": "text/x-python",
   "name": "python",
   "nbconvert_exporter": "python",
   "pygments_lexer": "ipython3",
   "version": "3.9.6"
  }
 },
 "nbformat": 4,
 "nbformat_minor": 5
}
